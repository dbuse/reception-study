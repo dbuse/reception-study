{
 "cells": [
  {
   "cell_type": "markdown",
   "metadata": {},
   "source": [
    "# An Overview of Simple Path Loss and 11p Range"
   ]
  },
  {
   "cell_type": "code",
   "execution_count": null,
   "metadata": {},
   "outputs": [],
   "source": [
    "import math\n",
    "import matplotlib\n",
    "import matplotlib.pyplot as plt\n",
    "import numpy as np\n",
    "import pandas as pd\n",
    "import seaborn as sns\n",
    "import scipy\n",
    "\n",
    "sns.set_theme(style='whitegrid')"
   ]
  },
  {
   "cell_type": "code",
   "execution_count": null,
   "metadata": {},
   "outputs": [],
   "source": [
    "def simple_path_loss(wavelength, distance, alpha):\n",
    "    return (wavelength  / (4 * np.pi * distance)) ** 2"
   ]
  },
  {
   "cell_type": "code",
   "execution_count": null,
   "metadata": {},
   "outputs": [],
   "source": [
    "def to_wavelength(frequency):\n",
    "    \"\"\"Return wavelength in meters for frequency in Hz\"\"\"\n",
    "    return 299792458.0 / frequency"
   ]
  },
  {
   "cell_type": "code",
   "execution_count": null,
   "metadata": {},
   "outputs": [],
   "source": [
    "def mW2dBm(mW):\n",
    "    \"\"\"Milli-Watt to dBm\"\"\"\n",
    "    return 10 * np.log10(mW)\n",
    "\n",
    "def dBm2mW(dBm):\n",
    "    \"\"\"dBm to Milli-Watt\"\"\"\n",
    "    return 10 ** (dBm / 10)\n",
    "\n",
    "assert all(math.isclose(mW, dBm2mW(mW2dBm(mW))) for mW in [20, 200, 2000, 20000])"
   ]
  },
  {
   "cell_type": "markdown",
   "metadata": {},
   "source": [
    "## Pure Free Space Path Loss"
   ]
  },
  {
   "cell_type": "code",
   "execution_count": null,
   "metadata": {},
   "outputs": [],
   "source": [
    "center_frequency = 5.89e9  # 5.89 GHz, center frequency of the IEEE 801.11p control channel\n",
    "alpha = 2.0\n",
    "max_distance = 5000.0"
   ]
  },
  {
   "cell_type": "code",
   "execution_count": null,
   "metadata": {},
   "outputs": [],
   "source": [
    "distances = pd.Series(np.linspace(1, max_distance, 1000), name=\"distance (m)\")\n",
    "path_loss_mW = pd.Series(simple_path_loss(to_wavelength(center_frequency), distances, alpha), name=\"path loss (mW)\")\n",
    "path_loss_dBm = pd.Series(mW2dBm(path_loss_mW), name=\"path loss (dBm)\")\n",
    "\n",
    "fig, (left, right) = plt.subplots(1, 2, tight_layout=True, figsize=(12, 6))\n",
    "sns.lineplot(x=distances, y=path_loss_mW, ax=left)\n",
    "sns.lineplot(x=distances, y=path_loss_dBm, ax=right)\n",
    "left.set(yscale=\"log\")"
   ]
  },
  {
   "cell_type": "markdown",
   "metadata": {},
   "source": [
    "## With transceiver config"
   ]
  },
  {
   "cell_type": "code",
   "execution_count": null,
   "metadata": {},
   "outputs": [],
   "source": [
    "minPowerLevel_dBm = -98\n",
    "noiseLevel_dBm = -98\n",
    "\n",
    "transmit_powers_mW = [20, 100, 200]\n",
    "\n",
    "def snr(signal_mW):\n",
    "    return signal_mW / dBm2mW(noiseLevel_dBm)"
   ]
  },
  {
   "cell_type": "code",
   "execution_count": null,
   "metadata": {},
   "outputs": [],
   "source": [
    "mW2dBm(pd.Series(transmit_powers_mW, index=transmit_powers_mW))"
   ]
  },
  {
   "cell_type": "code",
   "execution_count": null,
   "metadata": {},
   "outputs": [],
   "source": [
    "rss = pd.DataFrame({\n",
    "    f\"{transmit_power_mW} mW\": mW2dBm(transmit_power_mW * path_loss_mW)\n",
    "    for transmit_power_mW in transmit_powers_mW\n",
    "}).set_index(distances)"
   ]
  },
  {
   "cell_type": "code",
   "execution_count": null,
   "metadata": {},
   "outputs": [],
   "source": [
    "fig, (left, mid, right) = plt.subplots(1, 3, figsize=(16, 6), tight_layout=True)\n",
    "sns.lineplot(\n",
    "    data=rss.reset_index().melt(id_vars=\"distance (m)\", var_name=\"transmit power\", value_name=\"received power (dBm)\"),\n",
    "    y=\"received power (dBm)\",\n",
    "    x=\"distance (m)\",\n",
    "    hue=\"transmit power\",\n",
    "    ax=left,\n",
    ")\n",
    "sns.lineplot(\n",
    "    data=rss.pipe(dBm2mW).pipe(snr).reset_index().melt(id_vars=\"distance (m)\", var_name=\"transmit power\", value_name=\"Signal to Noise Ratio\"),\n",
    "    y=\"Signal to Noise Ratio\",\n",
    "    x=\"distance (m)\",\n",
    "    hue=\"transmit power\",\n",
    "    ax=mid,\n",
    ")\n",
    "sns.lineplot(\n",
    "    data=rss.pipe(dBm2mW).pipe(snr).pipe(mW2dBm).reset_index().melt(id_vars=\"distance (m)\", var_name=\"transmit power\", value_name=\"Signal to Noise Ratio (in dB)\"),\n",
    "    y=\"Signal to Noise Ratio (in dB)\",\n",
    "    x=\"distance (m)\",\n",
    "    hue=\"transmit power\",\n",
    "    ax=right,\n",
    ")\n",
    "left.hlines(y=[minPowerLevel_dBm], xmin=distances.iloc[0], xmax=distances.iloc[-1], colors=[\"grey\"], linestyles=[\"dashed\"])\n",
    "mid.set(yscale=\"log\")"
   ]
  },
  {
   "cell_type": "markdown",
   "metadata": {},
   "source": [
    "# Decoding Probability\n",
    "\n",
    "The above only considers the minimum power level for detectability.\n",
    "For decodability (i.e., successfull reception), we need to consider the NIST error model as well.\n",
    "This means also configuring a message length to account for bit errors."
   ]
  },
  {
   "cell_type": "markdown",
   "metadata": {},
   "source": [
    "Veins by default simulates 802.11p with \n",
    "\n",
    "* 6 Mbps bitrate\n",
    "* 10 MHz bandwidth\n",
    "* thus: OFDM QPSK R 1/2\n",
    "* thus: 12 Mbps OFDM data rate\n",
    "* thus: calling `NistErrorRate::getFecQpskBer` with `bValue` == 1\n",
    "\n",
    "In my simulations, I use CAMs, which have a median length of 350 byte (2800 bit), see: c2ccc-2052."
   ]
  },
  {
   "cell_type": "code",
   "execution_count": null,
   "metadata": {},
   "outputs": [],
   "source": [
    "bitrate = 6000000  # Bps\n",
    "bandwidth_11p = 10000000  # Hz\n",
    "phy_header_service_length = 16  # bits\n",
    "phy_tail_length = 6  # bits\n",
    "message_payload_length = 500 * 8  # bits\n",
    "\n",
    "total_message_length = phy_header_service_length + message_payload_length + phy_tail_length"
   ]
  },
  {
   "cell_type": "code",
   "execution_count": null,
   "metadata": {},
   "outputs": [],
   "source": [
    "def nist_qpsk_ber(snr):\n",
    "    return 0.5 * scipy.special.erfc(np.sqrt(snr / 2.0))\n",
    "\n",
    "def calculate_pe(p, bValue):\n",
    "    \"\"\"Return the coded BER for the given p and b.\"\"\"\n",
    "    D = np.sqrt(4 * p * (1 - p))\n",
    "    if bValue == 1:\n",
    "        # code rate 1/2, use table 3.1.1\n",
    "        return (\n",
    "            36 * (D ** 10)\n",
    "            + 211 * (D ** 12)\n",
    "            + 1404 * (D ** 14)\n",
    "            + 11633 * (D ** 16)\n",
    "            + 77433 * (D ** 18)\n",
    "            + 502690 * (D ** 20)\n",
    "            + 3322763 * (D ** 22)\n",
    "            + 21292910 * (D ** 24)\n",
    "            + 134365911 * (D ** 26)\n",
    "        )\n",
    "    else:\n",
    "        raise NotImplementedError(\"Only bValue == 1 is implemented right now.\")\n",
    "\n",
    "def nist_fec_qpsk_ber(snr, nbits, bValue=1):\n",
    "    ber = nist_qpsk_ber(snr)\n",
    "#     if ber == 0.0:\n",
    "#         return 1.0\n",
    "    pe = np.clip(calculate_pe(ber, bValue), a_min=0, a_max=1.0)\n",
    "    return (1 - pe) ** nbits\n"
   ]
  },
  {
   "cell_type": "code",
   "execution_count": null,
   "metadata": {},
   "outputs": [],
   "source": [
    "# plot packet error probablity for different SNRs\n",
    "nist_fec_qpsk_ber(rss.pipe(dBm2mW).pipe(snr), total_message_length).plot()"
   ]
  },
  {
   "cell_type": "code",
   "execution_count": null,
   "metadata": {},
   "outputs": [],
   "source": [
    "snr_sample_range = pd.Series(np.arange(0, 25, 0.1), name=\"SNR\")\n",
    "ax = pd.DataFrame({\n",
    "    \"SNR\": snr_sample_range,\n",
    "    \"NIST FDR (500 B)\": nist_fec_qpsk_ber(snr_sample_range, 500*8),\n",
    "    \"NIST FDR (1000 B)\": nist_fec_qpsk_ber(snr_sample_range, 1000*8)\n",
    "}).set_index(\"SNR\").plot()\n",
    "ax.set_ylabel(\"Frame Delivery Ratio\")\n",
    "None"
   ]
  }
 ],
 "metadata": {
  "kernelspec": {
   "display_name": "Python 3",
   "language": "python",
   "name": "python3"
  },
  "language_info": {
   "codemirror_mode": {
    "name": "ipython",
    "version": 3
   },
   "file_extension": ".py",
   "mimetype": "text/x-python",
   "name": "python",
   "nbconvert_exporter": "python",
   "pygments_lexer": "ipython3",
   "version": "3.8.6"
  }
 },
 "nbformat": 4,
 "nbformat_minor": 4
}
