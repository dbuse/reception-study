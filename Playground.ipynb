{
 "cells": [
  {
   "cell_type": "code",
   "execution_count": null,
   "id": "6a4e2fea-8ad8-48a7-a617-e07b9c5718ff",
   "metadata": {},
   "outputs": [],
   "source": [
    "%matplotlib inline\n",
    "\n",
    "import glob\n",
    "import os\n",
    "import subprocess\n",
    "\n",
    "import numpy as np\n",
    "import pandas as pd\n",
    "import seaborn as sns\n",
    "import matplotlib.pyplot as plt\n",
    "\n",
    "import ccs\n",
    "\n",
    "sns.set_theme(style=\"whitegrid\")"
   ]
  },
  {
   "cell_type": "markdown",
   "id": "f397b9b4-581c-4c41-9535-e4026444e5ac",
   "metadata": {
    "tags": []
   },
   "source": [
    "# Evaluation Playground\n",
    "\n",
    "Start building the evaluation for the reception study here.\n",
    "Move more mature stuff to specific notebooks and scripts later."
   ]
  },
  {
   "cell_type": "markdown",
   "id": "46246e7e-58b1-48f5-af4a-c8e04ba55f89",
   "metadata": {
    "tags": []
   },
   "source": [
    "## Simulation and Result Pre-Processing\n",
    "\n",
    "Doing the stuff outside python:"
   ]
  },
  {
   "cell_type": "code",
   "execution_count": null,
   "id": "00b52d73-619a-4dcd-8404-f98c2a4d1713",
   "metadata": {},
   "outputs": [],
   "source": [
    "CONFIGS = [\"Default\", \"DoubleNoise\"]"
   ]
  },
  {
   "cell_type": "code",
   "execution_count": null,
   "id": "cf4e5c86-884d-4d79-9a5d-ecbdb992f9e8",
   "metadata": {},
   "outputs": [],
   "source": [
    "# run simulations\n",
    "for omnetpp_config in CONFIGS:\n",
    "    subprocess.run(\n",
    "        [\"../lib/veins/bin/veins_run\", \"-u\", \"Cmdenv\", \"-c\", omnetpp_config],\n",
    "        env={\"PATH\": f\"/scratch/buse/sumo-1_6_0/bin:{os.environ['PATH']}\"},\n",
    "        cwd=\"scenario\",\n",
    "    )\n",
    "# convert to csv\n",
    "for ext in [\"sca\", \"vec\"]:\n",
    "    for opp_result_file in glob.glob(f\"scenario/results/*.{ext}\"):\n",
    "        print(f\"{opp_result_file} -> {opp_result_file}.csv.gz\")\n",
    "        !{\"lib/veins_scripts/eval/opp_\" + ext + \"2longcsv.sh\"} {opp_result_file} | gzip > {opp_result_file + \".csv.gz\"}\n",
    "    \n",
    "!ls -hl scenario/results/*.csv.gz"
   ]
  },
  {
   "cell_type": "markdown",
   "id": "21e6bb96-45ea-49ec-9e80-d1a74ab8db7e",
   "metadata": {},
   "source": [
    "## Data Reading\n",
    "\n",
    "Using the new RE-based Version using the `ccs` Package\n",
    "\n",
    "With the aim to read results from multiple simulation runs (and thus csv files) in one go.\n",
    "And extract simulation paramters at the same time."
   ]
  },
  {
   "cell_type": "code",
   "execution_count": null,
   "id": "501d5b5f-0553-4af4-a299-ed356d194380",
   "metadata": {},
   "outputs": [],
   "source": [
    "# configuration columns used in various places\n",
    "CONF_COLS = [\"config\", \"runnr\"]"
   ]
  },
  {
   "cell_type": "code",
   "execution_count": null,
   "id": "1fb8d5ca-1acd-4024-8f3a-494527a85f0e",
   "metadata": {},
   "outputs": [],
   "source": [
    "RESULTDIR = \"scenario/results\"\n",
    "dfs = (\n",
    "    ccs.read_csvs(\n",
    "        RESULTDIR,\n",
    "        r\"(?P<config>[^-]+)-#(?P<runnr>\\d+)\\.vec\\.csv\\.gz\",\n",
    "        read_csv_args={\"sep\": \" \", \"names\": [\"vecid\", \"module\", \"signal\", \"event\", \"time\", \"value\"]},\n",
    "    )\n",
    "    # set index types\n",
    "    .reset_index(CONF_COLS)\n",
    "    .astype({\"config\": \"category\", \"runnr\": int})\n",
    "    .reset_index(drop=True)\n",
    "    # extract submodule and host number\n",
    "    .pipe(lambda df: df.merge(df.module.str.extract(r\"[^.]+\\.node\\[(?P<hostnr>\\d+)\\]\\.(?P<submodule>.*)\"), left_index=True, right_index=True))\n",
    "    .drop(columns=['module'])\n",
    "    .assign(signal=lambda df: df.signal.str.replace(\":vector\", \"\"))\n",
    "    .astype({\"submodule\": \"category\", \"signal\": \"category\", \"hostnr\": int})\n",
    ")\n",
    "dfs.info()\n",
    "dfs.head(3)"
   ]
  },
  {
   "cell_type": "code",
   "execution_count": null,
   "id": "6c312d6f-c7f5-4327-ae00-b52efb4e4b3b",
   "metadata": {},
   "outputs": [],
   "source": [
    "dfs.groupby(CONF_COLS + [\"hostnr\", \"signal\"]).event.count().unstack()"
   ]
  },
  {
   "cell_type": "markdown",
   "id": "6e2cd017-3213-41bd-9774-cc27568eca97",
   "metadata": {},
   "source": [
    "### Check Mobility\n",
    "\n",
    "See how the postion of the receiver (host 0) changes over time to ensure there is smooth movement and a stable relationship between time and distance."
   ]
  },
  {
   "cell_type": "code",
   "execution_count": null,
   "id": "c1a45e6c-2cde-4876-8919-535b5b6e2ac2",
   "metadata": {},
   "outputs": [],
   "source": [
    "positions = dfs.query(\"hostnr == 0 and signal in ('posx', 'posy')\").pivot(index=CONF_COLS + [\"time\"], columns=[\"signal\"], values=\"value\").reset_index()\n",
    "assert (positions.groupby(CONF_COLS).posy.diff().dropna() == 0).all()  # The Y coordinate should not change\n",
    "positions.head(3)"
   ]
  },
  {
   "cell_type": "markdown",
   "id": "e6f70e0d-0760-4666-867c-f1780fa7e800",
   "metadata": {},
   "source": [
    "Both time and position (mostly) advance at 1s / 1m per recorded item, so that's fine (Veins' `updateInterval` is set to 1s and the vehicle moves with 1 m/s).\n",
    "\n",
    "There are little rounding errors in the position, but that is fine for our purposes.\n",
    "We just round to full meters and convert to `int` later."
   ]
  },
  {
   "cell_type": "code",
   "execution_count": null,
   "id": "f2be63f3-8b47-4574-9dd3-c8b49a64075e",
   "metadata": {},
   "outputs": [],
   "source": [
    "positions.groupby(CONF_COLS)[['time', 'posx']].apply(lambda df: df.diff().describe()).unstack(CONF_COLS).T"
   ]
  },
  {
   "cell_type": "code",
   "execution_count": null,
   "id": "c3614009-c377-4c44-9fd2-7beca8e67188",
   "metadata": {},
   "outputs": [],
   "source": [
    "distance = (\n",
    "    dfs.query(\"signal == 'posx'\")\n",
    "    .assign(second=lambda df: df.time.astype(int))\n",
    "    .pivot(index=CONF_COLS + [\"second\"], columns=\"hostnr\", values=\"value\")\n",
    "    .fillna(method=\"backfill\")\n",
    "    .pipe(lambda df: pd.Series(df[0] - df[1], name=\"distance\"))\n",
    "    .round(0)\n",
    "    .astype(int)\n",
    ")\n",
    "distance"
   ]
  },
  {
   "cell_type": "markdown",
   "id": "274f6eac-392b-411a-b4ad-d12bd5eee720",
   "metadata": {},
   "source": [
    "## First Insights\n",
    "\n",
    "Explore the RSS and SNR over time and (later) distance.\n",
    "\n",
    "I have added recording points into `veins::Decider80211p::processSignalEnd` method.\n",
    "There I record some signal properties, regardless of wheter the signal could be decoded or even detected.\n",
    "That would not have been possible in the MAC layer, as that only knows about successfully decoded frames.\n",
    "However, I'll only get valid SNR values for signals that were at least detected -- for others the Decider stops early and does not even compute it."
   ]
  },
  {
   "cell_type": "code",
   "execution_count": null,
   "id": "8bfae26e-4328-41d7-93c7-508c5a9bc70b",
   "metadata": {},
   "outputs": [],
   "source": [
    "receptions = (\n",
    "    dfs.query(\"hostnr == 0 and signal in ('RSSIdBm', 'SNR', 'Correct', 'Detected')\")\n",
    "    [CONF_COLS + ['time', 'signal', 'value']]  # TODO: drop?\n",
    "    .pivot(index=CONF_COLS + [\"time\"], columns=[\"signal\"], values=\"value\")\n",
    "    .assign(SNRdB=lambda df: 10 * np.log10(df.SNR))\n",
    "    .astype({\"Correct\": bool, \"Detected\": bool})\n",
    "    .reset_index()\n",
    "    .assign(second=lambda df: df.time.astype(int))\n",
    "    .set_index(CONF_COLS + [\"second\"]).assign(distance=distance).reset_index()\n",
    "    [CONF_COLS + ['time', 'distance', 'Detected', 'Correct', 'RSSIdBm', 'SNRdB']]\n",
    ")\n",
    "receptions.head()"
   ]
  },
  {
   "cell_type": "markdown",
   "id": "078fc714-dc96-4127-b258-f5ee416b0e4b",
   "metadata": {},
   "source": [
    "### Detection Threshold\n",
    "\n",
    "Message detection stops at around 1120 meters of distance (vehicles start with 1 m between them and diverge with 1 m/s)."
   ]
  },
  {
   "cell_type": "code",
   "execution_count": null,
   "id": "238ccae4-6db7-45e2-8706-dfda932cae3f",
   "metadata": {},
   "outputs": [],
   "source": [
    "detection_cutoff_distances = receptions[receptions.Detected].groupby(CONF_COLS).distance.max()\n",
    "assert (detection_cutoff_distances.diff().dropna() == 0).all()\n",
    "detection_cutoff_distance = detection_cutoff_distances.iloc[0]\n",
    "detection_cutoff_distance"
   ]
  },
  {
   "cell_type": "code",
   "execution_count": null,
   "id": "637bb8f8-3b3c-49e0-a267-0dd82b7821ed",
   "metadata": {},
   "outputs": [],
   "source": [
    "ax = sns.violinplot(data=receptions, y=\"distance\", hue=\"Detected\", x=\"config\")\n",
    "ax.hlines(y=detection_cutoff_distance, xmin=ax.get_xlim()[0], xmax=ax.get_xlim()[1], color=\"grey\", linestyles=\"dashed\")\n",
    "receptions.groupby(CONF_COLS + [\"Detected\"]).distance.describe()"
   ]
  },
  {
   "cell_type": "markdown",
   "id": "360aada1-6042-4598-846f-14627234e72e",
   "metadata": {},
   "source": [
    "There actually is a hard cut-off with no stochastic process in beween.\n",
    "\n",
    "**Note**: There is no influence of noise or interference here, this boundary is purely based on the RSS of the incoming signal itself and the receiver config.\n",
    "However, a previous message that the receiver is trained on will affect detection (only one signal receptable at the time, no frame capturing)."
   ]
  },
  {
   "cell_type": "code",
   "execution_count": null,
   "id": "57eabf68-0b40-4277-b761-333b1edd81dc",
   "metadata": {},
   "outputs": [],
   "source": [
    "detection = receptions.groupby(CONF_COLS + [\"distance\"]).Detected.sum().reset_index()\n",
    "fig, ax = plt.subplots()\n",
    "sns.scatterplot(data=detection, x=\"distance\", y=\"Detected\", hue=\"config\", ax=ax)\n",
    "ax.set_xlim(left=detection.query(\"Detected == 100\").distance.iloc[-1] - 20, right=detection.query(\"Detected == 0\").distance.iloc[0] + 20)\n",
    "ax.vlines(x=detection_cutoff_distance, ymin=0, ymax=100, color=\"grey\", linestyle=\"dashed\")"
   ]
  },
  {
   "cell_type": "markdown",
   "id": "0c3bdede-ea97-4bb4-abe6-60e37f739d5b",
   "metadata": {},
   "source": [
    "### SNR and RSS\n",
    "\n",
    "Signals will only be detected if they are above the `minPowerLevel` setting (of -98 dBm, indicated by the dotted horizontal line).\n",
    "Signals below that will still be processed by the Decider, but not even considered for decoding.\n",
    "Thus, there are no values for the SNR for that.\n",
    "\n",
    "Also note that with increased noise, even signals with a SNR below 0 dBm are considered for detection."
   ]
  },
  {
   "cell_type": "code",
   "execution_count": null,
   "id": "ade7b8a7-591d-42ec-b8d8-728bf0a9957d",
   "metadata": {},
   "outputs": [],
   "source": [
    "fig, ax = plt.subplots(figsize=(18, 6))\n",
    "sns.lineplot(\n",
    "    data=receptions.melt(id_vars=CONF_COLS + [\"time\", \"distance\", \"Detected\", \"Correct\"], var_name=\"signal\", value_name=\"value\"),\n",
    "    x=\"distance\",\n",
    "    y=\"value\",\n",
    "    hue=\"signal\",\n",
    "    style=\"config\",\n",
    "    estimator=\"mean\",\n",
    "    ci=None,\n",
    "    ax=ax,\n",
    ")\n",
    "ax.hlines(y=-98, xmin=receptions.distance.min(), xmax=receptions.distance.max(), color=\"grey\", linestyle=\"dotted\")\n",
    "ax.vlines(x=detection_cutoff_distance, ymin=receptions.RSSIdBm.min(), ymax=receptions.SNRdB.max(), color=\"grey\", linestyle=\"dotted\")\n",
    "ax.set_ylabel(\"RSS [dBm] / SNR [dB]\")"
   ]
  },
  {
   "cell_type": "markdown",
   "id": "50cf1552-63ae-468f-b6b7-610af8338bc9",
   "metadata": {},
   "source": [
    "### Decodability\n",
    "\n",
    "Signals start to become not decodable (aka not `correct`) at around 450 m for the `Default`-configured signal.\n",
    "Though it is only spurious at the time -- most messages still come through.\n",
    "Only at arount 600 m there are no more decodable messages.\n",
    "\n",
    "When looking at the relation beween decodability and RSS/SNR, a similar pattern is visible.\n",
    "Just note that the x axis appears flipped now, as distance increases over time while RSS (and thus also SNR) decreases.\n",
    "\n",
    "These patterns appear to match the plots in `bloessl2019case` and the original NIST error model paper (for the configured QPSK 1/2 and 500 Byte frames, as we do here).\n",
    "\n",
    "With the increased noise (which simulates a single max-interferer), the decodability is visibly worse.\n",
    "In the RSSI-plot, the shift of 3 dBm is directly visible.\n",
    "Distance wise, the `DoubleNoise`-config start loosing packets at around 350 m and stops receiving entirely at around 410 m.\n",
    "So not only is the reliable range much lower, the further range in which at least some messages get through is much smaller (60 m compared to 150 m)."
   ]
  },
  {
   "cell_type": "code",
   "execution_count": null,
   "id": "b4ddac9a-272a-4ea5-8d68-fca48445584b",
   "metadata": {},
   "outputs": [],
   "source": [
    "pdr = receptions.groupby(CONF_COLS + [\"distance\"]).agg({\"Correct\": \"sum\", \"RSSIdBm\": \"mean\", \"SNRdB\": \"mean\"}).reset_index()\n",
    "pdr_change_boundaries = pdr.query(\"Correct < 100 and Correct > 0\")\n",
    "\n",
    "fig, (left, mid, right) = plt.subplots(1, 3, figsize=(18, 5), sharey=True, constrained_layout=True)\n",
    "sns.scatterplot(data=pdr, x=\"distance\", y=\"Correct\", hue=\"config\", ax=left)\n",
    "sns.scatterplot(data=pdr, y=\"Correct\", x=\"RSSIdBm\", hue=\"config\", ax=mid)\n",
    "sns.scatterplot(data=pdr, y=\"Correct\", x=\"SNRdB\", hue=\"config\", ax=right)\n",
    "left.set_xlim(left=pdr_change_boundaries.distance.min() - 10, right=pdr_change_boundaries.distance.max() + 10)\n",
    "mid.set_xlim(left=pdr_change_boundaries.RSSIdBm.min() - 0.5, right=pdr_change_boundaries.RSSIdBm.max() + 0.5)\n",
    "right.set_xlim(left=pdr_change_boundaries.SNRdB.min() - 0.5, right=pdr_change_boundaries.SNRdB.max() + 0.5)"
   ]
  },
  {
   "cell_type": "markdown",
   "id": "3cc5e4e2-b3bf-4e7c-bc7b-f3f6d99689b1",
   "metadata": {},
   "source": [
    "## Excursus: How dB changes when the base values change\n",
    "\n",
    "What happens with a number expressed in dB when the underlying absolute nubmer is doubled or halved?\n",
    "This should give me some intuition on how much interference or noise has to increase to have significant effects on decodability."
   ]
  },
  {
   "cell_type": "code",
   "execution_count": null,
   "id": "3daf8a5f-8a5c-4d95-81a0-b6035f87e1a6",
   "metadata": {},
   "outputs": [],
   "source": [
    "base_number = pd.Series(2 ** np.arange(0, 8, 0.5))\n",
    "base_vs_dB = pd.DataFrame({\"base\": base_number, \"dB\": 10 * np.log10(base_number)})\n",
    "\n",
    "fig, (left, right) = plt.subplots(1, 2, figsize=(24, 4))\n",
    "base_vs_dB.plot(x=\"base\", y=\"dB\", ax=left)\n",
    "right.axis('off')\n",
    "right.table(cellText=base_vs_dB.round(2).values, colLabels=base_vs_dB.columns, loc='center')\n",
    "# base_vs_dB.head(8)"
   ]
  },
  {
   "cell_type": "markdown",
   "id": "554a12c7-bb0e-441a-9a24-b17c59a2a321",
   "metadata": {},
   "source": [
    "Result: Follow the rule of thumb **\"doubling the base number adds 3 dB\"**.\n",
    "\n",
    "Thus, halving the base number subtracts 3 dB.\n",
    "\n",
    "So, if there is *interference equal to the noise floor* (currently -98 dBm), then the SINR in dBm is *3 dB lower* than without any interference."
   ]
  },
  {
   "cell_type": "markdown",
   "id": "9740ac4f-9811-4118-b43c-6625fb9dbde6",
   "metadata": {},
   "source": [
    "## TODO: Influence of Interference\n",
    "\n",
    "Now that I know about the basic behavior, I want to find out how increased interference could change the results.\n",
    "Note that Veins treats interference and noise mostly the same (except for some reporting), so I could also just adapt the noise to get an impression of what would change.\n",
    "\n",
    "Main Questions:\n",
    "\n",
    "- How much interference/noise is needed to significantly shift the reception behavior?\n",
    "- How much interference can there be (assuming CSMA/CA works)?\n",
    "    * ANSWERED: for a single source of interference (that is not decodable).\n",
    "- And finally: at what distance will a signal be so weak that it can not interfere with the reception of another signal anymore?"
   ]
  },
  {
   "cell_type": "markdown",
   "id": "71bc654f-274d-42af-a958-e444dddb0e71",
   "metadata": {},
   "source": [
    "#### First thoughts and insights:\n",
    "\n",
    "- at around 1220m, the message can no longer be detected\n",
    "    * because the RSS is below the `minPowerlevel` of -98 dBm\n",
    "    * the noise floor is configured to the same value of -98 dBm, but does not have an influence on the *detectability*, only *decodabiliity* (through SNR)\n",
    "- decoding stops much earlier, at around 600 m (without any interference)\n",
    "- so, an interfering signal sent from around 1121 m will also have a RSS of around -98 dBm\n",
    "    * at that time, SINR would be half as big as the pure SNR, or 3 dB lower\n",
    "    * we need a SINR of around 7 dB for reliable decoding, present at around 500 m\n",
    "    * to compensate for said interference, we need around 10 dB SNR, present at around only 350 m\n",
    "    * this matches the observations from above with the `DoubleNoise` approach.\n",
    "\n",
    "Verification approach: just increase the noise level by 3 dBm and compare outcomes, the reliable decodablity should be around the numbers above."
   ]
  },
  {
   "cell_type": "code",
   "execution_count": null,
   "id": "cfb59332-d63f-447f-b337-cc184057f683",
   "metadata": {},
   "outputs": [],
   "source": [
    "receptions.query(\"config == 'Default'\").assign(RSSmW=lambda df: 10 ** (df.RSSIdBm / 10)).head(3)"
   ]
  },
  {
   "cell_type": "markdown",
   "id": "7776e130-dc6a-4d39-ade2-97cdb65f66a5",
   "metadata": {},
   "source": [
    "Power level in mW for our `Default` noise floor or equivalent single strongest interferer:"
   ]
  },
  {
   "cell_type": "code",
   "execution_count": null,
   "id": "85d07ea3-7cfd-4c8d-b516-6a3a9bcc0ef7",
   "metadata": {},
   "outputs": [],
   "source": [
    "baseNoise_mW = 10 ** (-98 / 10)\n",
    "baseNoise_mW"
   ]
  },
  {
   "cell_type": "code",
   "execution_count": null,
   "id": "34b31411-d15c-465d-a7f2-79be223b4adf",
   "metadata": {},
   "outputs": [],
   "source": [
    "fig, ax = plt.subplots(figsize=(18, 6), tight_layout=True)\n",
    "sns.lineplot(\n",
    "    data=receptions.query(\"config == 'Default' and distance > 1000 \").assign(RSSmW=lambda df: 10 ** (df.RSSIdBm / 10)),\n",
    "    x=\"distance\",\n",
    "    y=\"RSSmW\",\n",
    "    estimator=\"mean\",\n",
    "    ci=None,\n",
    "    ax=ax,\n",
    ")\n",
    "xmin, xmax = ax.get_xlim()\n",
    "ax.hlines(y=baseNoise_mW, xmin=xmin, xmax=xmax, color=\"grey\", linestyles=\"dashed\")\n",
    "ax.hlines(y=baseNoise_mW / 2, xmin=xmin, xmax=xmax, color=\"grey\", linestyles=\"dotted\")\n",
    "ax.vlines(x=detection_cutoff_distance, ymin=ax.get_ylim()[0], ymax=ax.get_ylim()[1], color=\"grey\", linestyles=\"dashed\")\n",
    "# ax.set_yscale(\"log\")"
   ]
  },
  {
   "cell_type": "markdown",
   "id": "36f55cdc-bb6f-4d20-af43-ad775b186bde",
   "metadata": {},
   "source": [
    "So at around 1750 m, we still roughly 1.5 dBm increase of Interference + Noise.\n",
    "That is still enough to completely block a signal being safely decodable without interference (at 7 dB SNR) from being decoded (at 5.5 dB SINR).\n",
    "\n",
    "For a signal to still have 7 dB SINR under these conditions, the RSS would need to be -89.5 dBm.\n",
    "Thus, the maximum distance would be around 420 m."
   ]
  },
  {
   "cell_type": "code",
   "execution_count": null,
   "id": "d1520c54-c2e3-4c78-957c-3635deae4165",
   "metadata": {},
   "outputs": [],
   "source": [
    "receptions.query(\"config == 'Default' and RSSIdBm > -89.5\").tail(1)"
   ]
  },
  {
   "cell_type": "markdown",
   "id": "052cb85a-4632-4293-90d0-514e3c9b4088",
   "metadata": {},
   "source": [
    "But can I turn this into some kind of a formula?\n",
    "Given one interferer x meters away, you loose f(x) meters of reliable range?\n",
    "That would be cool.\n",
    "\n",
    "My current procedure is:\n",
    "\n",
    "- find the decrease in SINR due to interference\n",
    "    * look up from the SNR measurements (or re-implement simple path loss)\n",
    "- subtract from safe SNR of 7 dB to get delta-dB\n",
    "    * 7 dB of S(I)NR is what we need to reliably decode at QPSK 1/2\n",
    "- find the max distance at which the RSS is still (-91 - delta-dB) dBm\n",
    "    * the -91 dBm are needed to achieve the 7 dB of SNR at -98 dBm of (Default) noise"
   ]
  },
  {
   "cell_type": "code",
   "execution_count": null,
   "id": "a0e58f51-f217-440f-b8d3-f5ba6c792868",
   "metadata": {},
   "outputs": [],
   "source": [
    "data = receptions.query(\"config == 'Default' and runnr == 0\").assign(RSSmW=lambda df: 10 ** (df.RSSIdBm / 10)).sort_values(\"distance\")\n",
    "def distance_loss_by_interferer(interf_distance):\n",
    "    \"\"\"Return loss of reliable distance due to interference from an interferer interf_distance meters away.\"\"\"\n",
    "    safe_snr_dB = 7\n",
    "    default_noise_dB = -98\n",
    "    default_noise_mW = 10 ** (default_noise_dB / 10)\n",
    "    \n",
    "    # find the decrease in SINR due to interference, compared to just noise, aka: SINR - SNR\n",
    "    interf_power_mW = data.query(f\"distance > {interf_distance}\").RSSmW.iloc[0]\n",
    "    ni_power_dB = 10 * np.log10(interf_power_mW + default_noise_mW)\n",
    "    sinr_loss_dB = ni_power_dB - default_noise_dB\n",
    "    \n",
    "    # compute required RSS to still reliably decode a (500 Byte QPSK 1/2 frame)\n",
    "    required_rss_dB = default_noise_dB + safe_snr_dB + sinr_loss_dB\n",
    "    \n",
    "    # find distance at which a transmission still provides that RSS\n",
    "    max_required_distance = data.query(f\"RSSIdBm > {required_rss_dB}\").distance.iloc[-1]\n",
    "\n",
    "    return max_required_distance"
   ]
  },
  {
   "cell_type": "code",
   "execution_count": null,
   "id": "82805c8a-dc45-46ea-8ae1-8d65167a5bbe",
   "metadata": {},
   "outputs": [],
   "source": [
    "distance_loss_by_interferer(1750)"
   ]
  },
  {
   "cell_type": "markdown",
   "id": "496f6752-ec02-441a-a22f-4fca3cebce6b",
   "metadata": {},
   "source": [
    "And now let's obtain some values and plot them:"
   ]
  },
  {
   "cell_type": "code",
   "execution_count": null,
   "id": "ed9fb9a8-8833-4d7f-aa79-2a66811d9c44",
   "metadata": {},
   "outputs": [],
   "source": [
    "# all available distance with my current data, but below the detection threshold\n",
    "interferer_distances = list(range(detection_cutoff_distance, distance.max(), 5))\n",
    "interferer_distances_losses = pd.DataFrame({\"interf_distance\": interferer_distances, \"max_reception_distance\": map(distance_loss_by_interferer, interferer_distances)})\n",
    "interferer_distances_losses.head(3)"
   ]
  },
  {
   "cell_type": "code",
   "execution_count": null,
   "id": "4eb0162c-f061-4f76-9112-a618b964e211",
   "metadata": {},
   "outputs": [],
   "source": [
    "fig, ax = plt.subplots(figsize=(12, 6), tight_layout=True)\n",
    "sns.lineplot(data=interferer_distances_losses, x=\"interf_distance\", y=\"max_reception_distance\", ax=ax)\n",
    "ax.set_xlabel(\"Distance to interferer [m]\")\n",
    "ax.set_ylabel(\"Reliable distance to sender [m]\")\n",
    "ax.set_title(\"Relation between interferer distance and achievable reliable distance for 500 Byte QPSK 1/2 using 802.11p\")"
   ]
  },
  {
   "cell_type": "markdown",
   "id": "217e9be2-64bd-4bbb-9b0f-b222743a204b",
   "metadata": {},
   "source": [
    "So even an interferer from 3000 m away still significantly lowers the reliable range (without interference, we are at 500 m reliable range!)"
   ]
  },
  {
   "cell_type": "markdown",
   "id": "7f615d9a-4948-44a4-8665-fc008d4f9fc0",
   "metadata": {
    "tags": []
   },
   "source": [
    "## Maximum Overlapping Interference\n",
    "\n",
    "<img src=\"doc/interferer-distances-6.svg\" alt=\"receiver with 6 equally distanced senders around it\" width=\"400px\" align=\"right\" />\n",
    "\n",
    "How many interference signals could be present at a receiver at the same time (assuming working CSMA/CA)?\n",
    "\n",
    "Using gemetry, I could show that six senders can be arranged around a receiver in the center with equal distance.\n",
    "If this equal distance is just above the detection theshold distance, e.g., 1125 m for the `Default` configuration, then all could send at the same time.\n",
    "Then none of the other stations (central receiver or the other senders) would be able to detect a signal.\n",
    "But at the central receiver, six interferer signals with roughly `detectionThreshold` (so -98 dBm in the `Default` config) would come in.\n",
    "This would mean that interference adds around **8.45 dBm** to Noise (multiplying it by 7, assuming `noiseFloor == minPowerLevel`, as is the case in `Default`).\n",
    "\n",
    "For an actual message to come in, there are two options:\n",
    "\n",
    "1. There is another sender at the center, very close to the receiver, and outside of the detection distance of the other (outer) interferer-senders.\n",
    "   This may require the outer senders to move outwards a little further.\n",
    "   (The resulting signal at the reciever will probably come through despite the interference, as it has a very high power level due to the low distance.)\n",
    "  \n",
    "2. One of the outer interferers is replaced with an actual sender, and that sender is moved in towards the receiver.\n",
    "   It needs to be at least within detection distance, but for any chance of successfully receiving the message, it has to be much closer.\n",
    "   For comparison, even without interference, the maximum reliable distance is around 500 m, compared to the 1121 m of the detection threshold.\n",
    "   With only 5 interferers remaining, the Interference adds around **7.78 dBm** to Noise (multiplying by 6).\n",
    "   So to be decodable, the useful signal would need to arrive with an RSS of -91 dBm + 7.78 dBm == 83.32 dBm.\n",
    "   This only happens until around 204 m of range."
   ]
  },
  {
   "cell_type": "code",
   "execution_count": null,
   "id": "4ba3fd5c-703e-415e-8a97-0d5246d0e5b0",
   "metadata": {},
   "outputs": [],
   "source": [
    "data.query(f\"RSSIdBm > {-91 + 8.45}\").distance.iloc[-1], data.query(f\"RSSIdBm > {-91 + 7.78}\").distance.iloc[-1]"
   ]
  }
 ],
 "metadata": {
  "kernelspec": {
   "display_name": "Python 3",
   "language": "python",
   "name": "python3"
  },
  "language_info": {
   "codemirror_mode": {
    "name": "ipython",
    "version": 3
   },
   "file_extension": ".py",
   "mimetype": "text/x-python",
   "name": "python",
   "nbconvert_exporter": "python",
   "pygments_lexer": "ipython3",
   "version": "3.8.12"
  }
 },
 "nbformat": 4,
 "nbformat_minor": 5
}
