{
 "cells": [
  {
   "cell_type": "code",
   "execution_count": null,
   "id": "6a4e2fea-8ad8-48a7-a617-e07b9c5718ff",
   "metadata": {},
   "outputs": [],
   "source": [
    "%matplotlib inline\n",
    "\n",
    "import numpy as np\n",
    "import pandas as pd\n",
    "import seaborn as sns\n",
    "import matplotlib.pyplot as plt\n",
    "\n",
    "sns.set_theme(style=\"whitegrid\")"
   ]
  },
  {
   "cell_type": "markdown",
   "id": "f397b9b4-581c-4c41-9535-e4026444e5ac",
   "metadata": {},
   "source": [
    "# Evaluation Playground\n",
    "\n",
    "Start building the evaluation for the reception study here.\n",
    "Move more mature stuff to specific notebooks and scripts later."
   ]
  },
  {
   "cell_type": "markdown",
   "id": "46246e7e-58b1-48f5-af4a-c8e04ba55f89",
   "metadata": {},
   "source": [
    "## Simulation and Result Pre-Processing\n",
    "\n",
    "Doing the stuff outside python:"
   ]
  },
  {
   "cell_type": "code",
   "execution_count": null,
   "id": "02fd6aa6-691b-4994-9fb6-62f6d121de3e",
   "metadata": {},
   "outputs": [],
   "source": [
    "# run simulation\n",
    "!env  -C scenario PATH=\"/scratch/buse/sumo-1_6_0/bin:$PATH\" ../lib/veins/bin/veins_run -u Cmdenv -c Default\n",
    "# convert to csv\n",
    "!lib/veins_scripts/eval/opp_vec2longcsv.sh scenario/results/Default-\\#0.vec > scenario/results/Default-\\#0.vec.csv\n",
    "!lib/veins_scripts/eval/opp_sca2longcsv.sh scenario/results/Default-\\#0.sca > scenario/results/Default-\\#0.sca.csv\n",
    "!ls -hl scenario/results/Default-\\#0.*.csv"
   ]
  },
  {
   "cell_type": "markdown",
   "id": "c9b533ea-e706-4dd3-81b1-e22aef15492c",
   "metadata": {},
   "source": [
    "## Data Reading"
   ]
  },
  {
   "cell_type": "code",
   "execution_count": null,
   "id": "7b892554-9ed8-4212-8435-0b3cdc633daf",
   "metadata": {},
   "outputs": [],
   "source": [
    "vec = (\n",
    "        pd.read_csv(\n",
    "        \"scenario/results/Default-#0.vec.csv\",\n",
    "        sep=\" \",\n",
    "        names=[\"vecid\", \"module\", \"signal\", \"event\", \"time\", \"value\"],\n",
    "    )\n",
    "    .pipe(lambda df: df.merge(df.module.str.extract(r\"[^.]+\\.node\\[(?P<hostnr>\\d+)\\]\\.(?P<submodule>.*)\"), left_index=True, right_index=True))\n",
    "    .drop(columns=['module'])\n",
    "    .assign(signal=lambda df: df.signal.str.replace(\":vector\", \"\"))\n",
    "    .astype({\"submodule\": \"category\", \"signal\": \"category\", \"hostnr\": int})\n",
    ")\n",
    "vec.info()\n",
    "vec.head()"
   ]
  },
  {
   "cell_type": "code",
   "execution_count": null,
   "id": "6c312d6f-c7f5-4327-ae00-b52efb4e4b3b",
   "metadata": {},
   "outputs": [],
   "source": [
    "vec.groupby([\"hostnr\", \"signal\"]).event.count().unstack()"
   ]
  },
  {
   "cell_type": "markdown",
   "id": "6e2cd017-3213-41bd-9774-cc27568eca97",
   "metadata": {},
   "source": [
    "### Check Mobility\n",
    "\n",
    "See how the postion of the receiver (host 0) changes over time to ensure there is smooth movement and a stable relationship between time and distance."
   ]
  },
  {
   "cell_type": "code",
   "execution_count": null,
   "id": "c1a45e6c-2cde-4876-8919-535b5b6e2ac2",
   "metadata": {},
   "outputs": [],
   "source": [
    "positions = vec.query(\"hostnr == 0 and signal in ('posx', 'posy')\").pivot(index=[\"time\"], columns=[\"signal\"], values=\"value\").reset_index()\n",
    "assert (positions.posy.diff().dropna() == 0).all()  # The Y coordinate should not change\n",
    "positions.head(3)"
   ]
  },
  {
   "cell_type": "markdown",
   "id": "e6f70e0d-0760-4666-867c-f1780fa7e800",
   "metadata": {},
   "source": [
    "Both time and position (mostly) advance at 1s / 1m per recorded item, so that's fine (Veins' `updateInterval` is set to 1s and the vehicle moves with 1 m/s).\n",
    "\n",
    "There are little rounding errors in the position, but that is fine for our purposes."
   ]
  },
  {
   "cell_type": "code",
   "execution_count": null,
   "id": "f2be63f3-8b47-4574-9dd3-c8b49a64075e",
   "metadata": {},
   "outputs": [],
   "source": [
    "positions[['time', 'posx']].diff().describe().T"
   ]
  },
  {
   "cell_type": "code",
   "execution_count": null,
   "id": "c3614009-c377-4c44-9fd2-7beca8e67188",
   "metadata": {},
   "outputs": [],
   "source": [
    "distance = (\n",
    "    vec.query(\"signal == 'posx'\")\n",
    "    .assign(second=lambda df: df.time.astype(int))\n",
    "    .pivot(index=[\"second\"], columns=\"hostnr\", values=\"value\")\n",
    "    .fillna(method=\"backfill\")\n",
    "    .pipe(lambda df: pd.Series(df[0] - df[1], name=\"distance\"))\n",
    "    .round(0)\n",
    "    .astype(int)\n",
    ")\n",
    "distance"
   ]
  },
  {
   "cell_type": "markdown",
   "id": "274f6eac-392b-411a-b4ad-d12bd5eee720",
   "metadata": {},
   "source": [
    "## First Insights\n",
    "\n",
    "Explore the RSS and SNR over time and (later) distance.\n",
    "\n",
    "I have added recording points into `veins::Decider80211p::processSignalEnd` method.\n",
    "There I record some signal properties, regardless of wheter the signal could be decoded or even detected.\n",
    "That would not have been possible in the MAC layer, as that only knows about successfully decoded frames.\n",
    "However, I'll only get valid SNR values for signals that were at least detected -- for others the Decider stops early and does not even compute it."
   ]
  },
  {
   "cell_type": "code",
   "execution_count": null,
   "id": "8bfae26e-4328-41d7-93c7-508c5a9bc70b",
   "metadata": {},
   "outputs": [],
   "source": [
    "receptions = (\n",
    "    vec.query(\"hostnr == 0 and signal in ('RSSIdBm', 'SNR', 'Correct', 'Detected')\")\n",
    "    [['time', 'signal', 'value']]\n",
    "    .pivot(index=[\"time\"], columns=[\"signal\"], values=\"value\")\n",
    "    .assign(SNRdB=lambda df: 10 * np.log10(df.SNR))\n",
    "    .astype({\"Correct\": bool, \"Detected\": bool})\n",
    "    .reset_index()\n",
    "    .assign(second=lambda df: df.time.astype(int))\n",
    "    .set_index(\"second\").assign(distance=distance).reset_index()\n",
    "    [['time', 'distance', 'Detected', 'Correct', 'RSSIdBm', 'SNRdB']]\n",
    ")\n",
    "receptions.head()"
   ]
  },
  {
   "cell_type": "markdown",
   "id": "078fc714-dc96-4127-b258-f5ee416b0e4b",
   "metadata": {},
   "source": [
    "### Detection Threshold\n",
    "\n",
    "Message detection stops at around 1120 meters of distance (vehicles start with 1 m between them and diverge with 1 m/s)."
   ]
  },
  {
   "cell_type": "code",
   "execution_count": null,
   "id": "238ccae4-6db7-45e2-8706-dfda932cae3f",
   "metadata": {},
   "outputs": [],
   "source": [
    "detection_cutoff_distance = receptions[receptions.Detected].distance.max()\n",
    "detection_cutoff_distance"
   ]
  },
  {
   "cell_type": "code",
   "execution_count": null,
   "id": "637bb8f8-3b3c-49e0-a267-0dd82b7821ed",
   "metadata": {},
   "outputs": [],
   "source": [
    "sns.violinplot(data=receptions, y=\"distance\", x=\"Detected\")\n",
    "receptions.groupby(\"Detected\").distance.describe()"
   ]
  },
  {
   "cell_type": "markdown",
   "id": "360aada1-6042-4598-846f-14627234e72e",
   "metadata": {},
   "source": [
    "There actually is a hard cut-off with no stochastic process in beween.\n",
    "\n",
    "**Note**: There is no influence of noise or interference here, this boundary is purely based on the RSS of the incoming signal itself and the receiver config.\n",
    "However, a previous message that the receiver is trained on will affect detection (only one signal receptable at the time, no frame capturing)."
   ]
  },
  {
   "cell_type": "code",
   "execution_count": null,
   "id": "57eabf68-0b40-4277-b761-333b1edd81dc",
   "metadata": {},
   "outputs": [],
   "source": [
    "detection = receptions.groupby(\"distance\").Detected.sum().reset_index()\n",
    "fig, ax = plt.subplots()\n",
    "sns.scatterplot(data=detection, x=\"distance\", y=\"Detected\", ax=ax)\n",
    "ax.set_xlim(left=detection.query(\"Detected == 100\").distance.iloc[-1] - 20, right=detection.query(\"Detected == 0\").distance.iloc[0] + 20)\n",
    "ax.vlines(x=detection_cutoff_distance, ymin=0, ymax=100, color=\"grey\", linestyle=\"dashed\")"
   ]
  },
  {
   "cell_type": "markdown",
   "id": "0c3bdede-ea97-4bb4-abe6-60e37f739d5b",
   "metadata": {},
   "source": [
    "### SNR and RSS\n",
    "\n",
    "Signals will only be detected if they are above the `minPowerLevel` setting (of -98 dBm, indicated by the dotted horizontal line).\n",
    "Signals below that will still be processed by the Decider, but not even considered for decoding.\n",
    "Thus, there are no values for the SNR for that."
   ]
  },
  {
   "cell_type": "code",
   "execution_count": null,
   "id": "ade7b8a7-591d-42ec-b8d8-728bf0a9957d",
   "metadata": {},
   "outputs": [],
   "source": [
    "fig, ax = plt.subplots(figsize=(18, 6))\n",
    "sns.lineplot(\n",
    "    data=receptions.melt(id_vars=[\"time\", \"distance\", \"Detected\", \"Correct\"], var_name=\"signal\", value_name=\"value\"),\n",
    "    x=\"distance\",\n",
    "    y=\"value\",\n",
    "    hue=\"signal\",\n",
    "    style=\"Correct\",\n",
    "    estimator=\"mean\",\n",
    "    ci=None,\n",
    "    ax=ax,\n",
    ")\n",
    "ax.hlines(y=-98, xmin=receptions.distance.min(), xmax=receptions.distance.max(), color=\"grey\", linestyle=\"dotted\")\n",
    "ax.vlines(x=detection_cutoff_distance, ymin=receptions.RSSIdBm.min(), ymax=receptions.SNRdB.max(), color=\"grey\", linestyle=\"dotted\")\n",
    "ax.set_ylabel(\"RSS [dBm] / SNR [dB]\")"
   ]
  },
  {
   "cell_type": "markdown",
   "id": "50cf1552-63ae-468f-b6b7-610af8338bc9",
   "metadata": {},
   "source": [
    "### Decodability\n",
    "\n",
    "Signals start to become not decodable (aka not `correct`) at around 420 s.\n",
    "Though it is only spurious at the time -- most messages still come through.\n",
    "Only at arount 580 s there are no more decodable messages.\n",
    "\n",
    "When looking at the relation beween decodability and RSS/SNR, a similar pattern is visible.\n",
    "Just note that the x axis appears flipped now, as distance increases over time while RSS (and thus also SNR) decreases.\n",
    "\n",
    "These patterns appear to match the plots in bloessl2019case and the original NIST error model paper (for the configured QPSK 1/2 and 500 Byte frames, as we do here)."
   ]
  },
  {
   "cell_type": "code",
   "execution_count": null,
   "id": "b4ddac9a-272a-4ea5-8d68-fca48445584b",
   "metadata": {},
   "outputs": [],
   "source": [
    "pdr = receptions.groupby(\"distance\").agg({\"Correct\": \"sum\", \"RSSIdBm\": \"mean\", \"SNRdB\": \"mean\"}).reset_index()\n",
    "pdr_change_boundaries = pdr.query(\"Correct < 100 and Correct > 0\")\n",
    "\n",
    "fig, (left, mid, right) = plt.subplots(1, 3, figsize=(18, 5), sharey=True, constrained_layout=True)\n",
    "sns.scatterplot(data=pdr, x=\"distance\", y=\"Correct\", ax=left)\n",
    "sns.scatterplot(data=pdr, y=\"Correct\", x=\"RSSIdBm\", ax=mid)\n",
    "sns.scatterplot(data=pdr, y=\"Correct\", x=\"SNRdB\", ax=right)\n",
    "left.set_xlim(left=pdr_change_boundaries.distance.min() - 10, right=pdr_change_boundaries.distance.max() + 10)\n",
    "mid.set_xlim(left=pdr_change_boundaries.RSSIdBm.min() - 0.5, right=pdr_change_boundaries.RSSIdBm.max() + 0.5)\n",
    "right.set_xlim(left=pdr_change_boundaries.SNRdB.min() - 0.5, right=pdr_change_boundaries.SNRdB.max() + 0.5)"
   ]
  },
  {
   "cell_type": "markdown",
   "id": "3cc5e4e2-b3bf-4e7c-bc7b-f3f6d99689b1",
   "metadata": {},
   "source": [
    "## Excursus: How dB changes when the base values change\n",
    "\n",
    "What happens with a number expressed in dB when the underlying absolute nubmer is doubled or halved?\n",
    "This should give me some intuition on how much interference or noise has to increase to have significant effects on decodability."
   ]
  },
  {
   "cell_type": "code",
   "execution_count": null,
   "id": "3daf8a5f-8a5c-4d95-81a0-b6035f87e1a6",
   "metadata": {},
   "outputs": [],
   "source": [
    "base_number = pd.Series(2 ** np.arange(0, 8, 0.5))\n",
    "base_vs_dB = pd.DataFrame({\"base\": base_number, \"dB\": 10 * np.log10(base_number)})\n",
    "\n",
    "fig, (left, right) = plt.subplots(1, 2, figsize=(24, 4))\n",
    "base_vs_dB.plot(x=\"base\", y=\"dB\", ax=left)\n",
    "right.axis('off')\n",
    "right.table(cellText=base_vs_dB.round(2).values, colLabels=base_vs_dB.columns, loc='center')\n",
    "# base_vs_dB.head(8)"
   ]
  },
  {
   "cell_type": "markdown",
   "id": "554a12c7-bb0e-441a-9a24-b17c59a2a321",
   "metadata": {},
   "source": [
    "Result: Follow the rule of thumb **\"doubling the base number adds 3 dB\"**.\n",
    "\n",
    "Thus, halving the base number subtracts 3 dB.\n",
    "\n",
    "So, if there is *interference equal to the noise floor* (currently -98 dBm), then the SINR in dBm is *3 dB lower* than without any interference."
   ]
  },
  {
   "cell_type": "markdown",
   "id": "9740ac4f-9811-4118-b43c-6625fb9dbde6",
   "metadata": {},
   "source": [
    "## TODO: Influence of Interference\n",
    "\n",
    "Now that I know about the basic behavior, I want to find out how increased interference could change the results.\n",
    "Note that Veins treats interference and noise mostly the same (except for some reporting), so I could also just adapt the noise to get an impression of what would change.\n",
    "\n",
    "Main Questions:\n",
    "\n",
    "- How much interference/noise is needed to significantly shift the reception behavior?\n",
    "- How much interference can there be (assuming CSMA/CA works)?\n",
    "- And finally: at what distance will a signal be so weak that it can not interfere with the reception of another signal anymore?"
   ]
  }
 ],
 "metadata": {
  "kernelspec": {
   "display_name": "Python 3",
   "language": "python",
   "name": "python3"
  },
  "language_info": {
   "codemirror_mode": {
    "name": "ipython",
    "version": 3
   },
   "file_extension": ".py",
   "mimetype": "text/x-python",
   "name": "python",
   "nbconvert_exporter": "python",
   "pygments_lexer": "ipython3",
   "version": "3.8.12"
  }
 },
 "nbformat": 4,
 "nbformat_minor": 5
}
