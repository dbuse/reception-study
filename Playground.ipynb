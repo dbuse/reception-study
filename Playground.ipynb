{
 "cells": [
  {
   "cell_type": "code",
   "execution_count": null,
   "id": "6a4e2fea-8ad8-48a7-a617-e07b9c5718ff",
   "metadata": {},
   "outputs": [],
   "source": [
    "%matplotlib inline\n",
    "\n",
    "import numpy as np\n",
    "import pandas as pd\n",
    "import seaborn as sns\n",
    "import matplotlib.pyplot as plt\n",
    "\n",
    "sns.set_theme(style=\"whitegrid\")"
   ]
  },
  {
   "cell_type": "markdown",
   "id": "f397b9b4-581c-4c41-9535-e4026444e5ac",
   "metadata": {},
   "source": [
    "# Evaluation Playground\n",
    "\n",
    "Start building the evaluation for the reception study here.\n",
    "Move more mature stuff to specific notebooks and scripts later."
   ]
  },
  {
   "cell_type": "markdown",
   "id": "46246e7e-58b1-48f5-af4a-c8e04ba55f89",
   "metadata": {},
   "source": [
    "## Simulation and Result Pre-Processing\n",
    "\n",
    "Doing the stuff outside python:"
   ]
  },
  {
   "cell_type": "code",
   "execution_count": null,
   "id": "02fd6aa6-691b-4994-9fb6-62f6d121de3e",
   "metadata": {},
   "outputs": [],
   "source": [
    "# run simulation\n",
    "!env  -C scenario PATH=\"/scratch/buse/sumo-1_6_0/bin:$PATH\" ../lib/veins/bin/veins_run -u Cmdenv -c Default\n",
    "# convert to csv\n",
    "!lib/veins_scripts/eval/opp_vec2longcsv.sh scenario/results/Default-\\#0.vec > scenario/results/Default-\\#0.vec.csv\n",
    "!lib/veins_scripts/eval/opp_sca2longcsv.sh scenario/results/Default-\\#0.sca > scenario/results/Default-\\#0.sca.csv\n",
    "!ls -hl scenario/results/Default-\\#0.*.csv"
   ]
  },
  {
   "cell_type": "markdown",
   "id": "c9b533ea-e706-4dd3-81b1-e22aef15492c",
   "metadata": {},
   "source": [
    "## Data Reading"
   ]
  },
  {
   "cell_type": "code",
   "execution_count": null,
   "id": "7b892554-9ed8-4212-8435-0b3cdc633daf",
   "metadata": {},
   "outputs": [],
   "source": [
    "vec = (\n",
    "        pd.read_csv(\n",
    "        \"scenario/results/Default-#0.vec.csv\",\n",
    "        sep=\" \",\n",
    "        names=[\"vecid\", \"module\", \"signal\", \"event\", \"time\", \"value\"],\n",
    "    )\n",
    "    .pipe(lambda df: df.merge(df.module.str.extract(r\"[^.]+\\.node\\[(?P<hostnr>\\d+)\\]\\.(?P<submodule>.*)\"), left_index=True, right_index=True))\n",
    "    .drop(columns=['module'])\n",
    "    .assign(signal=lambda df: df.signal.str.replace(\":vector\", \"\"))\n",
    "    .astype({\"submodule\": \"category\", \"signal\": \"category\", \"hostnr\": int})\n",
    ")\n",
    "vec.info()\n",
    "vec.head()"
   ]
  },
  {
   "cell_type": "code",
   "execution_count": null,
   "id": "6c312d6f-c7f5-4327-ae00-b52efb4e4b3b",
   "metadata": {},
   "outputs": [],
   "source": [
    "vec.groupby([\"hostnr\", \"signal\"]).event.count().unstack()"
   ]
  },
  {
   "cell_type": "markdown",
   "id": "274f6eac-392b-411a-b4ad-d12bd5eee720",
   "metadata": {},
   "source": [
    "## First Insights\n",
    "\n",
    "Explore the RSS and SNR over time and (later) distance.\n",
    "\n",
    "I have added recording points into `veins::Decider80211p::processSignalEnd` method.\n",
    "There I record some signal properties, regardless of wheter the signal could be decoded or even detected.\n",
    "That would not have been possible in the MAC layer, as that only knows about successfully decoded frames.\n",
    "However, I'll only get valid SNR values for signals that were at least detected -- for others the Decider stops early and does not even compute it."
   ]
  },
  {
   "cell_type": "code",
   "execution_count": null,
   "id": "8bfae26e-4328-41d7-93c7-508c5a9bc70b",
   "metadata": {},
   "outputs": [],
   "source": [
    "receptions = (\n",
    "    vec.query(\"hostnr == 0 and signal in ('RSSIdBm', 'SNR', 'Correct', 'Detected')\")\n",
    "    [['time', 'signal', 'value']]\n",
    "    .pivot(index=[\"time\"], columns=[\"signal\"], values=\"value\")\n",
    "    .assign(SNRdB=lambda df: 10 * np.log10(df.SNR))\n",
    "    .astype({\"Correct\": bool, \"Detected\": bool})\n",
    "    .reset_index()\n",
    "    [['time', 'Detected', 'Correct', 'RSSIdBm', 'SNRdB']]\n",
    ")\n",
    "receptions.head()"
   ]
  },
  {
   "cell_type": "markdown",
   "id": "078fc714-dc96-4127-b258-f5ee416b0e4b",
   "metadata": {},
   "source": [
    "### Detection Threshold\n",
    "\n",
    "Message detection stops at around 1110 s, so around 1120 meters of distance (vehicles start with 1 m between them and diverge with 1 m/s)."
   ]
  },
  {
   "cell_type": "code",
   "execution_count": null,
   "id": "55d4c479-35db-4d47-b22e-8a8f24cae02e",
   "metadata": {},
   "outputs": [],
   "source": [
    "sns.violinplot(data=receptions, y=\"time\", x=\"Detected\")"
   ]
  },
  {
   "cell_type": "code",
   "execution_count": null,
   "id": "637bb8f8-3b3c-49e0-a267-0dd82b7821ed",
   "metadata": {},
   "outputs": [],
   "source": [
    "receptions.groupby(\"Detected\").time.describe()"
   ]
  },
  {
   "cell_type": "markdown",
   "id": "0c3bdede-ea97-4bb4-abe6-60e37f739d5b",
   "metadata": {},
   "source": [
    "### SNR and RSS\n",
    "\n",
    "Signals will only be detected if they are above the `minPowerLevel` setting (of -98 dBm).\n",
    "Signals below that will still be processed by the Decider, but not even considered for decoding.\n",
    "Thus, there are no values for the SNR for that."
   ]
  },
  {
   "cell_type": "code",
   "execution_count": null,
   "id": "ade7b8a7-591d-42ec-b8d8-728bf0a9957d",
   "metadata": {},
   "outputs": [],
   "source": [
    "fig, ax = plt.subplots(figsize=(18, 6))\n",
    "sns.lineplot(\n",
    "    data=receptions.melt(id_vars=[\"time\", \"Detected\", \"Correct\"], var_name=\"signal\", value_name=\"value\"),\n",
    "    x=\"time\",\n",
    "    y=\"value\",\n",
    "    hue=\"signal\",\n",
    "    style=\"Correct\",\n",
    "    ax=ax,\n",
    ")\n",
    "ax.hlines(y=-98, xmin=receptions.time.min(), xmax=receptions.time.max(), color=\"grey\", linestyle=\"dotted\")\n",
    "ax.vlines(x=receptions.time.iloc[receptions.SNRdB.idxmin()], ymin=receptions.RSSIdBm.min(), ymax=receptions.SNRdB.max(), color=\"grey\", linestyle=\"dashed\")\n",
    "ax.set_ylabel(\"RSS [dBm] / SNR [dB]\")"
   ]
  },
  {
   "cell_type": "markdown",
   "id": "6fb59e1e-0327-4f57-a449-cc92d96946a8",
   "metadata": {},
   "source": [
    "### Decodability\n",
    "\n",
    "Signals start to become not decodable (aka not `correct`) at around 420 s.\n",
    "Though it is only spurious at the time -- most messages still come through.\n",
    "Only at arount 580 s there are no more decodable messages."
   ]
  },
  {
   "cell_type": "code",
   "execution_count": null,
   "id": "cecff308-9072-40de-902e-be50d74e148e",
   "metadata": {},
   "outputs": [],
   "source": [
    "pdr = receptions.assign(second=lambda df: df.time.astype(int)).groupby(\"second\").Correct.sum().reset_index()\n",
    "pdr_change_boundaries = pdr.query(\"Correct < 100 and Correct > 0\").second\n",
    "fig, ax = plt.subplots()\n",
    "sns.scatterplot(data=pdr, x=\"second\", y=\"Correct\", ax=ax)\n",
    "ax.set_xlim(left=pdr_change_boundaries.min() - 10, right=pdr_change_boundaries.max() + 10)"
   ]
  },
  {
   "cell_type": "markdown",
   "id": "9740ac4f-9811-4118-b43c-6625fb9dbde6",
   "metadata": {},
   "source": [
    "## TODO: Influence of Interference\n",
    "\n",
    "Now that I know about the basic behavior, I want to find out how increased interference could change the results.\n",
    "Note that Veins treats interference and noise mostly the same (except for some reporting), so I could also just adapt the noise to get an impression of what would change.\n",
    "\n",
    "Main Questions:\n",
    "\n",
    "- How much interference/noise is needed to significantly shift the reception behavior?\n",
    "- How much interference can there be (assuming CSMA/CA works)?\n",
    "- And finally: at what distance will a signal be so weak that it can not interfere with the reception of another signal anymore?"
   ]
  }
 ],
 "metadata": {
  "kernelspec": {
   "display_name": "Python 3",
   "language": "python",
   "name": "python3"
  },
  "language_info": {
   "codemirror_mode": {
    "name": "ipython",
    "version": 3
   },
   "file_extension": ".py",
   "mimetype": "text/x-python",
   "name": "python",
   "nbconvert_exporter": "python",
   "pygments_lexer": "ipython3",
   "version": "3.8.12"
  }
 },
 "nbformat": 4,
 "nbformat_minor": 5
}
